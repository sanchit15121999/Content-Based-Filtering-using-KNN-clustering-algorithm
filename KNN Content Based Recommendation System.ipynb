{
 "cells": [
  {
   "cell_type": "markdown",
   "metadata": {},
   "source": [
    "# Predicting The movies that user will like if he tells the movie that he likes"
   ]
  },
  {
   "cell_type": "markdown",
   "metadata": {},
   "source": [
    "we have a dataset of nearly 2 lakh movies which are grouped on the based of genre like action,adventure,comedy,etc. In this project we will be using KNN clustering {K nearest neighbors is a simple algorithm that stores all available cases and classifies new cases based on a similarity measure (e.g., distance functions)}.\n",
    "Here we will be recommending movies which have similar genre. NO ratings are involved so there wont be any noise so no need to look for outliers."
   ]
  },
  {
   "cell_type": "code",
   "execution_count": 1,
   "metadata": {
    "ExecuteTime": {
     "end_time": "2020-05-13T13:39:35.630581Z",
     "start_time": "2020-05-13T13:39:33.892310Z"
    }
   },
   "outputs": [],
   "source": [
    "#importing the libraries\n",
    "import pandas as pd\n",
    "import numpy as np\n",
    "import scipy\n",
    "import sklearn"
   ]
  },
  {
   "cell_type": "code",
   "execution_count": 2,
   "metadata": {
    "ExecuteTime": {
     "end_time": "2020-05-13T13:39:40.063291Z",
     "start_time": "2020-05-13T13:39:35.632708Z"
    }
   },
   "outputs": [
    {
     "data": {
      "text/html": [
       "<div>\n",
       "<style scoped>\n",
       "    .dataframe tbody tr th:only-of-type {\n",
       "        vertical-align: middle;\n",
       "    }\n",
       "\n",
       "    .dataframe tbody tr th {\n",
       "        vertical-align: top;\n",
       "    }\n",
       "\n",
       "    .dataframe thead th {\n",
       "        text-align: right;\n",
       "    }\n",
       "</style>\n",
       "<table border=\"1\" class=\"dataframe\">\n",
       "  <thead>\n",
       "    <tr style=\"text-align: right;\">\n",
       "      <th></th>\n",
       "      <th>movieId</th>\n",
       "      <th>Movies</th>\n",
       "      <th>Adventure</th>\n",
       "      <th>Animation</th>\n",
       "      <th>Children</th>\n",
       "      <th>Comedy</th>\n",
       "      <th>Fantasy</th>\n",
       "      <th>Romance</th>\n",
       "      <th>Crime</th>\n",
       "      <th>Thriller</th>\n",
       "      <th>Drama</th>\n",
       "      <th>Horror</th>\n",
       "      <th>Sci-Fi</th>\n",
       "      <th>Mystery</th>\n",
       "      <th>War</th>\n",
       "      <th>Musical</th>\n",
       "      <th>Action</th>\n",
       "      <th>Documentary</th>\n",
       "      <th>NO Genre</th>\n",
       "    </tr>\n",
       "  </thead>\n",
       "  <tbody>\n",
       "    <tr>\n",
       "      <th>0</th>\n",
       "      <td>1</td>\n",
       "      <td>Toy Story (1995)</td>\n",
       "      <td>True</td>\n",
       "      <td>True</td>\n",
       "      <td>True</td>\n",
       "      <td>True</td>\n",
       "      <td>True</td>\n",
       "      <td>False</td>\n",
       "      <td>False</td>\n",
       "      <td>False</td>\n",
       "      <td>False</td>\n",
       "      <td>False</td>\n",
       "      <td>False</td>\n",
       "      <td>False</td>\n",
       "      <td>False</td>\n",
       "      <td>False</td>\n",
       "      <td>False</td>\n",
       "      <td>False</td>\n",
       "      <td>False</td>\n",
       "    </tr>\n",
       "    <tr>\n",
       "      <th>1</th>\n",
       "      <td>2</td>\n",
       "      <td>Jumanji (1995)</td>\n",
       "      <td>True</td>\n",
       "      <td>False</td>\n",
       "      <td>True</td>\n",
       "      <td>False</td>\n",
       "      <td>True</td>\n",
       "      <td>False</td>\n",
       "      <td>False</td>\n",
       "      <td>False</td>\n",
       "      <td>False</td>\n",
       "      <td>False</td>\n",
       "      <td>False</td>\n",
       "      <td>False</td>\n",
       "      <td>False</td>\n",
       "      <td>False</td>\n",
       "      <td>False</td>\n",
       "      <td>False</td>\n",
       "      <td>False</td>\n",
       "    </tr>\n",
       "    <tr>\n",
       "      <th>2</th>\n",
       "      <td>3</td>\n",
       "      <td>Grumpier Old Men (1995)</td>\n",
       "      <td>False</td>\n",
       "      <td>False</td>\n",
       "      <td>False</td>\n",
       "      <td>True</td>\n",
       "      <td>False</td>\n",
       "      <td>True</td>\n",
       "      <td>False</td>\n",
       "      <td>False</td>\n",
       "      <td>False</td>\n",
       "      <td>False</td>\n",
       "      <td>False</td>\n",
       "      <td>False</td>\n",
       "      <td>False</td>\n",
       "      <td>False</td>\n",
       "      <td>False</td>\n",
       "      <td>False</td>\n",
       "      <td>False</td>\n",
       "    </tr>\n",
       "    <tr>\n",
       "      <th>3</th>\n",
       "      <td>4</td>\n",
       "      <td>Waiting to Exhale (1995)</td>\n",
       "      <td>False</td>\n",
       "      <td>False</td>\n",
       "      <td>False</td>\n",
       "      <td>True</td>\n",
       "      <td>False</td>\n",
       "      <td>True</td>\n",
       "      <td>False</td>\n",
       "      <td>False</td>\n",
       "      <td>True</td>\n",
       "      <td>False</td>\n",
       "      <td>False</td>\n",
       "      <td>False</td>\n",
       "      <td>False</td>\n",
       "      <td>False</td>\n",
       "      <td>False</td>\n",
       "      <td>False</td>\n",
       "      <td>False</td>\n",
       "    </tr>\n",
       "    <tr>\n",
       "      <th>4</th>\n",
       "      <td>5</td>\n",
       "      <td>Father of the Bride Part II (1995)</td>\n",
       "      <td>False</td>\n",
       "      <td>False</td>\n",
       "      <td>False</td>\n",
       "      <td>True</td>\n",
       "      <td>False</td>\n",
       "      <td>False</td>\n",
       "      <td>False</td>\n",
       "      <td>False</td>\n",
       "      <td>False</td>\n",
       "      <td>False</td>\n",
       "      <td>False</td>\n",
       "      <td>False</td>\n",
       "      <td>False</td>\n",
       "      <td>False</td>\n",
       "      <td>False</td>\n",
       "      <td>False</td>\n",
       "      <td>False</td>\n",
       "    </tr>\n",
       "  </tbody>\n",
       "</table>\n",
       "</div>"
      ],
      "text/plain": [
       "   movieId                              Movies  Adventure  Animation  \\\n",
       "0        1                    Toy Story (1995)       True       True   \n",
       "1        2                      Jumanji (1995)       True      False   \n",
       "2        3             Grumpier Old Men (1995)      False      False   \n",
       "3        4            Waiting to Exhale (1995)      False      False   \n",
       "4        5  Father of the Bride Part II (1995)      False      False   \n",
       "\n",
       "   Children  Comedy  Fantasy  Romance  Crime  Thriller  Drama  Horror  Sci-Fi  \\\n",
       "0      True    True     True    False  False     False  False   False   False   \n",
       "1      True   False     True    False  False     False  False   False   False   \n",
       "2     False    True    False     True  False     False  False   False   False   \n",
       "3     False    True    False     True  False     False   True   False   False   \n",
       "4     False    True    False    False  False     False  False   False   False   \n",
       "\n",
       "   Mystery    War  Musical  Action  Documentary  NO Genre  \n",
       "0    False  False    False   False        False     False  \n",
       "1    False  False    False   False        False     False  \n",
       "2    False  False    False   False        False     False  \n",
       "3    False  False    False   False        False     False  \n",
       "4    False  False    False   False        False     False  "
      ]
     },
     "execution_count": 2,
     "metadata": {},
     "output_type": "execute_result"
    }
   ],
   "source": [
    "#importing the excel file \n",
    "df=pd.read_excel(\"D:\\CV\\Projects present in CV\\Movie recommender system/movies.xlsx\")\n",
    "df.head()"
   ]
  },
  {
   "cell_type": "markdown",
   "metadata": {},
   "source": [
    "# Cleaning The Dataset"
   ]
  },
  {
   "cell_type": "code",
   "execution_count": 3,
   "metadata": {
    "ExecuteTime": {
     "end_time": "2020-05-13T13:39:40.071123Z",
     "start_time": "2020-05-13T13:39:40.066950Z"
    }
   },
   "outputs": [],
   "source": [
    "#This will be used at last for recommendation\n",
    "l=df"
   ]
  },
  {
   "cell_type": "code",
   "execution_count": 4,
   "metadata": {
    "ExecuteTime": {
     "end_time": "2020-05-13T13:39:40.094017Z",
     "start_time": "2020-05-13T13:39:40.073723Z"
    }
   },
   "outputs": [
    {
     "data": {
      "text/html": [
       "<div>\n",
       "<style scoped>\n",
       "    .dataframe tbody tr th:only-of-type {\n",
       "        vertical-align: middle;\n",
       "    }\n",
       "\n",
       "    .dataframe tbody tr th {\n",
       "        vertical-align: top;\n",
       "    }\n",
       "\n",
       "    .dataframe thead th {\n",
       "        text-align: right;\n",
       "    }\n",
       "</style>\n",
       "<table border=\"1\" class=\"dataframe\">\n",
       "  <thead>\n",
       "    <tr style=\"text-align: right;\">\n",
       "      <th></th>\n",
       "      <th>Animation</th>\n",
       "      <th>Children</th>\n",
       "      <th>Comedy</th>\n",
       "      <th>Fantasy</th>\n",
       "      <th>Romance</th>\n",
       "      <th>Crime</th>\n",
       "      <th>Thriller</th>\n",
       "      <th>Drama</th>\n",
       "      <th>Horror</th>\n",
       "      <th>Sci-Fi</th>\n",
       "      <th>Mystery</th>\n",
       "      <th>War</th>\n",
       "      <th>Musical</th>\n",
       "      <th>Action</th>\n",
       "      <th>Documentary</th>\n",
       "    </tr>\n",
       "  </thead>\n",
       "  <tbody>\n",
       "    <tr>\n",
       "      <th>0</th>\n",
       "      <td>1</td>\n",
       "      <td>1</td>\n",
       "      <td>1</td>\n",
       "      <td>1</td>\n",
       "      <td>0</td>\n",
       "      <td>0</td>\n",
       "      <td>0</td>\n",
       "      <td>0</td>\n",
       "      <td>0</td>\n",
       "      <td>0</td>\n",
       "      <td>0</td>\n",
       "      <td>0</td>\n",
       "      <td>0</td>\n",
       "      <td>0</td>\n",
       "      <td>0</td>\n",
       "    </tr>\n",
       "    <tr>\n",
       "      <th>1</th>\n",
       "      <td>0</td>\n",
       "      <td>1</td>\n",
       "      <td>0</td>\n",
       "      <td>1</td>\n",
       "      <td>0</td>\n",
       "      <td>0</td>\n",
       "      <td>0</td>\n",
       "      <td>0</td>\n",
       "      <td>0</td>\n",
       "      <td>0</td>\n",
       "      <td>0</td>\n",
       "      <td>0</td>\n",
       "      <td>0</td>\n",
       "      <td>0</td>\n",
       "      <td>0</td>\n",
       "    </tr>\n",
       "    <tr>\n",
       "      <th>2</th>\n",
       "      <td>0</td>\n",
       "      <td>0</td>\n",
       "      <td>1</td>\n",
       "      <td>0</td>\n",
       "      <td>1</td>\n",
       "      <td>0</td>\n",
       "      <td>0</td>\n",
       "      <td>0</td>\n",
       "      <td>0</td>\n",
       "      <td>0</td>\n",
       "      <td>0</td>\n",
       "      <td>0</td>\n",
       "      <td>0</td>\n",
       "      <td>0</td>\n",
       "      <td>0</td>\n",
       "    </tr>\n",
       "    <tr>\n",
       "      <th>3</th>\n",
       "      <td>0</td>\n",
       "      <td>0</td>\n",
       "      <td>1</td>\n",
       "      <td>0</td>\n",
       "      <td>1</td>\n",
       "      <td>0</td>\n",
       "      <td>0</td>\n",
       "      <td>1</td>\n",
       "      <td>0</td>\n",
       "      <td>0</td>\n",
       "      <td>0</td>\n",
       "      <td>0</td>\n",
       "      <td>0</td>\n",
       "      <td>0</td>\n",
       "      <td>0</td>\n",
       "    </tr>\n",
       "    <tr>\n",
       "      <th>4</th>\n",
       "      <td>0</td>\n",
       "      <td>0</td>\n",
       "      <td>1</td>\n",
       "      <td>0</td>\n",
       "      <td>0</td>\n",
       "      <td>0</td>\n",
       "      <td>0</td>\n",
       "      <td>0</td>\n",
       "      <td>0</td>\n",
       "      <td>0</td>\n",
       "      <td>0</td>\n",
       "      <td>0</td>\n",
       "      <td>0</td>\n",
       "      <td>0</td>\n",
       "      <td>0</td>\n",
       "    </tr>\n",
       "  </tbody>\n",
       "</table>\n",
       "</div>"
      ],
      "text/plain": [
       "   Animation  Children  Comedy  Fantasy  Romance  Crime  Thriller  Drama  \\\n",
       "0          1         1       1        1        0      0         0      0   \n",
       "1          0         1       0        1        0      0         0      0   \n",
       "2          0         0       1        0        1      0         0      0   \n",
       "3          0         0       1        0        1      0         0      1   \n",
       "4          0         0       1        0        0      0         0      0   \n",
       "\n",
       "   Horror  Sci-Fi  Mystery  War  Musical  Action  Documentary  \n",
       "0       0       0        0    0        0       0            0  \n",
       "1       0       0        0    0        0       0            0  \n",
       "2       0       0        0    0        0       0            0  \n",
       "3       0       0        0    0        0       0            0  \n",
       "4       0       0        0    0        0       0            0  "
      ]
     },
     "execution_count": 4,
     "metadata": {},
     "output_type": "execute_result"
    }
   ],
   "source": [
    "#to convert True and False to 1 and 0 This is done to develop a correlation b/w movies \n",
    "df1=(df.iloc[:,3:18]).astype(int)\n",
    "df1.head()"
   ]
  },
  {
   "cell_type": "code",
   "execution_count": 5,
   "metadata": {
    "ExecuteTime": {
     "end_time": "2020-05-13T13:39:40.106549Z",
     "start_time": "2020-05-13T13:39:40.094017Z"
    }
   },
   "outputs": [
    {
     "data": {
      "text/plain": [
       "0                      Toy Story (1995)\n",
       "1                        Jumanji (1995)\n",
       "2               Grumpier Old Men (1995)\n",
       "3              Waiting to Exhale (1995)\n",
       "4    Father of the Bride Part II (1995)\n",
       "Name: Movies, dtype: object"
      ]
     },
     "execution_count": 5,
     "metadata": {},
     "output_type": "execute_result"
    }
   ],
   "source": [
    "df2=df.iloc[:,1]\n",
    "df2.head()"
   ]
  },
  {
   "cell_type": "code",
   "execution_count": 6,
   "metadata": {
    "ExecuteTime": {
     "end_time": "2020-05-13T13:39:40.133574Z",
     "start_time": "2020-05-13T13:39:40.107546Z"
    }
   },
   "outputs": [],
   "source": [
    "#HEre we are concatenating the d=two data frames to get the dataframe in required format\n",
    "movie_features_df=pd.concat([df2,df1],axis=1)\n",
    "\n",
    "#this is how we can change the index to a column present in dataset\n",
    "movie_features_df.set_index('Movies',inplace = True)"
   ]
  },
  {
   "cell_type": "code",
   "execution_count": 7,
   "metadata": {
    "ExecuteTime": {
     "end_time": "2020-05-13T13:39:40.169823Z",
     "start_time": "2020-05-13T13:39:40.133574Z"
    }
   },
   "outputs": [
    {
     "data": {
      "text/html": [
       "<div>\n",
       "<style scoped>\n",
       "    .dataframe tbody tr th:only-of-type {\n",
       "        vertical-align: middle;\n",
       "    }\n",
       "\n",
       "    .dataframe tbody tr th {\n",
       "        vertical-align: top;\n",
       "    }\n",
       "\n",
       "    .dataframe thead th {\n",
       "        text-align: right;\n",
       "    }\n",
       "</style>\n",
       "<table border=\"1\" class=\"dataframe\">\n",
       "  <thead>\n",
       "    <tr style=\"text-align: right;\">\n",
       "      <th></th>\n",
       "      <th>Animation</th>\n",
       "      <th>Children</th>\n",
       "      <th>Comedy</th>\n",
       "      <th>Fantasy</th>\n",
       "      <th>Romance</th>\n",
       "      <th>Crime</th>\n",
       "      <th>Thriller</th>\n",
       "      <th>Drama</th>\n",
       "      <th>Horror</th>\n",
       "      <th>Sci-Fi</th>\n",
       "      <th>Mystery</th>\n",
       "      <th>War</th>\n",
       "      <th>Musical</th>\n",
       "      <th>Action</th>\n",
       "      <th>Documentary</th>\n",
       "    </tr>\n",
       "    <tr>\n",
       "      <th>Movies</th>\n",
       "      <th></th>\n",
       "      <th></th>\n",
       "      <th></th>\n",
       "      <th></th>\n",
       "      <th></th>\n",
       "      <th></th>\n",
       "      <th></th>\n",
       "      <th></th>\n",
       "      <th></th>\n",
       "      <th></th>\n",
       "      <th></th>\n",
       "      <th></th>\n",
       "      <th></th>\n",
       "      <th></th>\n",
       "      <th></th>\n",
       "    </tr>\n",
       "  </thead>\n",
       "  <tbody>\n",
       "    <tr>\n",
       "      <th>Toy Story (1995)</th>\n",
       "      <td>1</td>\n",
       "      <td>1</td>\n",
       "      <td>1</td>\n",
       "      <td>1</td>\n",
       "      <td>0</td>\n",
       "      <td>0</td>\n",
       "      <td>0</td>\n",
       "      <td>0</td>\n",
       "      <td>0</td>\n",
       "      <td>0</td>\n",
       "      <td>0</td>\n",
       "      <td>0</td>\n",
       "      <td>0</td>\n",
       "      <td>0</td>\n",
       "      <td>0</td>\n",
       "    </tr>\n",
       "    <tr>\n",
       "      <th>Jumanji (1995)</th>\n",
       "      <td>0</td>\n",
       "      <td>1</td>\n",
       "      <td>0</td>\n",
       "      <td>1</td>\n",
       "      <td>0</td>\n",
       "      <td>0</td>\n",
       "      <td>0</td>\n",
       "      <td>0</td>\n",
       "      <td>0</td>\n",
       "      <td>0</td>\n",
       "      <td>0</td>\n",
       "      <td>0</td>\n",
       "      <td>0</td>\n",
       "      <td>0</td>\n",
       "      <td>0</td>\n",
       "    </tr>\n",
       "    <tr>\n",
       "      <th>Grumpier Old Men (1995)</th>\n",
       "      <td>0</td>\n",
       "      <td>0</td>\n",
       "      <td>1</td>\n",
       "      <td>0</td>\n",
       "      <td>1</td>\n",
       "      <td>0</td>\n",
       "      <td>0</td>\n",
       "      <td>0</td>\n",
       "      <td>0</td>\n",
       "      <td>0</td>\n",
       "      <td>0</td>\n",
       "      <td>0</td>\n",
       "      <td>0</td>\n",
       "      <td>0</td>\n",
       "      <td>0</td>\n",
       "    </tr>\n",
       "    <tr>\n",
       "      <th>Waiting to Exhale (1995)</th>\n",
       "      <td>0</td>\n",
       "      <td>0</td>\n",
       "      <td>1</td>\n",
       "      <td>0</td>\n",
       "      <td>1</td>\n",
       "      <td>0</td>\n",
       "      <td>0</td>\n",
       "      <td>1</td>\n",
       "      <td>0</td>\n",
       "      <td>0</td>\n",
       "      <td>0</td>\n",
       "      <td>0</td>\n",
       "      <td>0</td>\n",
       "      <td>0</td>\n",
       "      <td>0</td>\n",
       "    </tr>\n",
       "    <tr>\n",
       "      <th>Father of the Bride Part II (1995)</th>\n",
       "      <td>0</td>\n",
       "      <td>0</td>\n",
       "      <td>1</td>\n",
       "      <td>0</td>\n",
       "      <td>0</td>\n",
       "      <td>0</td>\n",
       "      <td>0</td>\n",
       "      <td>0</td>\n",
       "      <td>0</td>\n",
       "      <td>0</td>\n",
       "      <td>0</td>\n",
       "      <td>0</td>\n",
       "      <td>0</td>\n",
       "      <td>0</td>\n",
       "      <td>0</td>\n",
       "    </tr>\n",
       "  </tbody>\n",
       "</table>\n",
       "</div>"
      ],
      "text/plain": [
       "                                    Animation  Children  Comedy  Fantasy  \\\n",
       "Movies                                                                     \n",
       "Toy Story (1995)                            1         1       1        1   \n",
       "Jumanji (1995)                              0         1       0        1   \n",
       "Grumpier Old Men (1995)                     0         0       1        0   \n",
       "Waiting to Exhale (1995)                    0         0       1        0   \n",
       "Father of the Bride Part II (1995)          0         0       1        0   \n",
       "\n",
       "                                    Romance  Crime  Thriller  Drama  Horror  \\\n",
       "Movies                                                                        \n",
       "Toy Story (1995)                          0      0         0      0       0   \n",
       "Jumanji (1995)                            0      0         0      0       0   \n",
       "Grumpier Old Men (1995)                   1      0         0      0       0   \n",
       "Waiting to Exhale (1995)                  1      0         0      1       0   \n",
       "Father of the Bride Part II (1995)        0      0         0      0       0   \n",
       "\n",
       "                                    Sci-Fi  Mystery  War  Musical  Action  \\\n",
       "Movies                                                                      \n",
       "Toy Story (1995)                         0        0    0        0       0   \n",
       "Jumanji (1995)                           0        0    0        0       0   \n",
       "Grumpier Old Men (1995)                  0        0    0        0       0   \n",
       "Waiting to Exhale (1995)                 0        0    0        0       0   \n",
       "Father of the Bride Part II (1995)       0        0    0        0       0   \n",
       "\n",
       "                                    Documentary  \n",
       "Movies                                           \n",
       "Toy Story (1995)                              0  \n",
       "Jumanji (1995)                                0  \n",
       "Grumpier Old Men (1995)                       0  \n",
       "Waiting to Exhale (1995)                      0  \n",
       "Father of the Bride Part II (1995)            0  "
      ]
     },
     "execution_count": 7,
     "metadata": {},
     "output_type": "execute_result"
    }
   ],
   "source": [
    "movie_features_df.head()"
   ]
  },
  {
   "cell_type": "markdown",
   "metadata": {},
   "source": [
    "###############################################################################################################################"
   ]
  },
  {
   "cell_type": "markdown",
   "metadata": {},
   "source": [
    "# Analysis"
   ]
  },
  {
   "cell_type": "code",
   "execution_count": 8,
   "metadata": {
    "ExecuteTime": {
     "end_time": "2020-05-13T13:39:40.349869Z",
     "start_time": "2020-05-13T13:39:40.174794Z"
    }
   },
   "outputs": [
    {
     "data": {
      "text/plain": [
       "NearestNeighbors(algorithm='brute', leaf_size=30, metric='cosine',\n",
       "                 metric_params=None, n_jobs=None, n_neighbors=5, p=2,\n",
       "                 radius=1.0)"
      ]
     },
     "execution_count": 8,
     "metadata": {},
     "output_type": "execute_result"
    }
   ],
   "source": [
    "#we have converted our data set to array matrix. to do this we used a library called SCIPY.SPARSE\n",
    "\n",
    "from scipy.sparse import csr_matrix\n",
    "\n",
    "movie_features_df_matrix = csr_matrix(movie_features_df.values)\n",
    "\n",
    "\n",
    "\n",
    "#now we are using the ML library to import KNN algo{cossine similarity} NEARESTNEIGHBOUR is not classifier or regressor\n",
    "#this is in the form of unsupervised machine learning\n",
    "from sklearn.neighbors import NearestNeighbors\n",
    "\n",
    "\n",
    "\n",
    "#the matrix used is cossine and the aalgo used is brute\n",
    "model_knn = NearestNeighbors(metric = 'cosine', algorithm = 'brute')\n",
    "#fit will make the model ready NN will be 5 by default p=2 is the eucleadian distance  parameter \n",
    "model_knn.fit(movie_features_df_matrix)"
   ]
  },
  {
   "cell_type": "code",
   "execution_count": 9,
   "metadata": {
    "ExecuteTime": {
     "end_time": "2020-05-13T13:39:40.363408Z",
     "start_time": "2020-05-13T13:39:40.352875Z"
    }
   },
   "outputs": [
    {
     "data": {
      "text/plain": [
       "(9742, 15)"
      ]
     },
     "execution_count": 9,
     "metadata": {},
     "output_type": "execute_result"
    }
   ],
   "source": [
    "#this tells us the number of rows and columns present in dataset\n",
    "movie_features_df.shape"
   ]
  },
  {
   "cell_type": "code",
   "execution_count": 10,
   "metadata": {
    "ExecuteTime": {
     "end_time": "2020-05-13T13:39:40.384275Z",
     "start_time": "2020-05-13T13:39:40.365404Z"
    }
   },
   "outputs": [
    {
     "name": "stdout",
     "output_type": "stream",
     "text": [
      "9444\n"
     ]
    }
   ],
   "source": [
    "#random function is used to take a random row from the dataset \n",
    "#the row number is stored in query_index\n",
    "#shape{0} means to collect any one record  if shape{1} then feature is selected\n",
    "query_index = np.random.choice(movie_features_df.shape[0])\n",
    "print(query_index)\n",
    "\n",
    "#this will try to find out which are the similar movies (.kneighbors) \n",
    "#Query pics up the whole vector(the complete row)\n",
    "#reshaping as 1,-1 as we will get the data as series and we will convert it to array \n",
    "#n_neigh  is the kNN number \n",
    "#2 parameters distances and indices\n",
    "distances, indices = model_knn.kneighbors(movie_features_df.iloc[query_index,:].values.reshape(1, -1), n_neighbors = 8)"
   ]
  },
  {
   "cell_type": "code",
   "execution_count": 11,
   "metadata": {
    "ExecuteTime": {
     "end_time": "2020-05-13T13:39:40.399332Z",
     "start_time": "2020-05-13T13:39:40.386612Z"
    }
   },
   "outputs": [
    {
     "data": {
      "text/plain": [
       "Animation      0\n",
       "Children       0\n",
       "Comedy         0\n",
       "Fantasy        0\n",
       "Romance        0\n",
       "Crime          0\n",
       "Thriller       0\n",
       "Drama          1\n",
       "Horror         0\n",
       "Sci-Fi         0\n",
       "Mystery        0\n",
       "War            0\n",
       "Musical        0\n",
       "Action         0\n",
       "Documentary    0\n",
       "Name: Iron Man (1931), dtype: int32"
      ]
     },
     "execution_count": 11,
     "metadata": {},
     "output_type": "execute_result"
    }
   ],
   "source": [
    "#the row number generated by np.random function is observed here \n",
    "movie_features_df.iloc[(query_index)]"
   ]
  },
  {
   "cell_type": "code",
   "execution_count": 12,
   "metadata": {
    "ExecuteTime": {
     "end_time": "2020-05-13T13:39:40.412628Z",
     "start_time": "2020-05-13T13:39:40.401260Z"
    }
   },
   "outputs": [
    {
     "name": "stdout",
     "output_type": "stream",
     "text": [
      "Recommendations for Iron Man (1931):\n",
      "\n",
      "1: MacArthur (1977), with distance of 0.0:\n",
      "2: That Obscure Object of Desire (Cet obscur objet du dÃ©sir) (1977), with distance of 0.0:\n",
      "3: Cinema Paradiso (Nuovo cinema Paradiso) (1989), with distance of 0.0:\n",
      "4: Champ, The (1979), with distance of 0.0:\n",
      "5: While the City Sleeps (1956), with distance of 0.0:\n",
      "6: Do the Right Thing (1989), with distance of 0.0:\n",
      "7: Jamaica Inn (1939), with distance of 0.0:\n"
     ]
    }
   ],
   "source": [
    "#distances is flattened \n",
    "#the 0th index we dont want as it will be the same movie which is most similar\n",
    "#then the similar movies are recommended from the dataframe by putting the index of the movie\n",
    "#{0} is the movie name and {1} is the year of release\n",
    "#indices.flatten()[i]  we will get the movie name\n",
    "#we are also getting a distance from distance.flatten\n",
    "#the distance of allmovies will be one since the values are 1,0 rue and false so the correlation will be absolute \n",
    "\n",
    "for i in range(0, len(distances.flatten())):\n",
    "    if i == 0:\n",
    "        print('Recommendations for {0}:\\n'.format(movie_features_df.index[query_index]))\n",
    "    else:\n",
    "        print('{0}: {1}, with distance of {2}:'.format(i, movie_features_df.index[indices.flatten()[i]], distances.flatten()[i]))"
   ]
  },
  {
   "cell_type": "code",
   "execution_count": null,
   "metadata": {},
   "outputs": [],
   "source": []
  },
  {
   "cell_type": "code",
   "execution_count": null,
   "metadata": {},
   "outputs": [],
   "source": []
  },
  {
   "cell_type": "code",
   "execution_count": null,
   "metadata": {
    "ExecuteTime": {
     "end_time": "2020-05-10T18:26:23.493747Z",
     "start_time": "2020-05-10T18:26:23.470268Z"
    }
   },
   "outputs": [],
   "source": []
  },
  {
   "cell_type": "markdown",
   "metadata": {
    "ExecuteTime": {
     "end_time": "2020-05-10T18:02:48.837370Z",
     "start_time": "2020-05-10T18:02:48.829298Z"
    }
   },
   "source": [
    "# PROGRAM "
   ]
  },
  {
   "cell_type": "code",
   "execution_count": 13,
   "metadata": {
    "ExecuteTime": {
     "end_time": "2020-05-13T13:49:39.535975Z",
     "start_time": "2020-05-13T13:39:40.413869Z"
    }
   },
   "outputs": [
    {
     "name": "stdout",
     "output_type": "stream",
     "text": [
      "NAME OF THE MOVIE THAT YOU WATCHED:  300 (2007)\n",
      "6433\n"
     ]
    }
   ],
   "source": [
    "#taking the name of movie as input so that a similar movie could be recommended\n",
    "k=input(\"NAME OF THE MOVIE THAT YOU WATCHED:  \")\n",
    "\n",
    "#l matrix is used here to get the index column(row number),  the index of movie_... is equated with name of movie entered by the user\n",
    "query_index=l[movie_features_df.index==k].index[0]\n",
    "\n",
    "\n",
    "#we get the row numnber\n",
    "print(query_index)\n",
    "\n",
    "#clustering is done and movies with same genre as the movie searched are taken  k is fixed here\n",
    "distances, indices = model_knn.kneighbors(movie_features_df.iloc[query_index,:].values.reshape(1, -1), n_neighbors = 10)"
   ]
  },
  {
   "cell_type": "code",
   "execution_count": 14,
   "metadata": {
    "ExecuteTime": {
     "end_time": "2020-05-13T13:49:39.553205Z",
     "start_time": "2020-05-13T13:49:39.537998Z"
    }
   },
   "outputs": [
    {
     "data": {
      "text/plain": [
       "Animation      0\n",
       "Children       0\n",
       "Comedy         0\n",
       "Fantasy        1\n",
       "Romance        0\n",
       "Crime          0\n",
       "Thriller       0\n",
       "Drama          0\n",
       "Horror         0\n",
       "Sci-Fi         0\n",
       "Mystery        0\n",
       "War            1\n",
       "Musical        0\n",
       "Action         1\n",
       "Documentary    0\n",
       "Name: 300 (2007), dtype: int32"
      ]
     },
     "execution_count": 14,
     "metadata": {},
     "output_type": "execute_result"
    }
   ],
   "source": [
    "#features of the movie searched are shown 1 is TRUE and 0 is FALSE\n",
    "movie_features_df.iloc[(query_index)]"
   ]
  },
  {
   "cell_type": "code",
   "execution_count": 15,
   "metadata": {
    "ExecuteTime": {
     "end_time": "2020-05-13T13:49:39.572734Z",
     "start_time": "2020-05-13T13:49:39.556712Z"
    }
   },
   "outputs": [
    {
     "name": "stdout",
     "output_type": "stream",
     "text": [
      "Recommendations for 300 (2007):\n",
      "\n",
      "1: 300 (2007), with distance of 0.0:\n",
      "2: Sheena (1984), with distance of 0.18350341907227397:\n",
      "3: Willow (1988), with distance of 0.18350341907227397:\n",
      "4: Highlander: Endgame (Highlander IV) (2000), with distance of 0.18350341907227397:\n",
      "5: Warrior's Way, The (2010), with distance of 0.18350341907227397:\n",
      "6: Harry Potter and the Deathly Hallows: Part 1 (2010), with distance of 0.18350341907227397:\n",
      "7: Red Sonja (1985), with distance of 0.18350341907227397:\n",
      "8: Red Dawn (2012), with distance of 0.18350341907227397:\n",
      "9: Missing in Action (1984), with distance of 0.18350341907227397:\n"
     ]
    }
   ],
   "source": [
    "#this is the main loop with iterates and finds the recommendations\n",
    "\n",
    "for i in range(0, len(distances.flatten())):\n",
    "    if i == 0:\n",
    "        print('Recommendations for {0}:\\n'.format(movie_features_df.index[query_index]))\n",
    "    else:\n",
    "        print('{0}: {1}, with distance of {2}:'.format(i, movie_features_df.index[indices.flatten()[i]], distances.flatten()[i]))"
   ]
  },
  {
   "cell_type": "code",
   "execution_count": null,
   "metadata": {},
   "outputs": [],
   "source": []
  }
 ],
 "metadata": {
  "hide_input": true,
  "kernelspec": {
   "display_name": "Python 3",
   "language": "python",
   "name": "python3"
  },
  "language_info": {
   "codemirror_mode": {
    "name": "ipython",
    "version": 3
   },
   "file_extension": ".py",
   "mimetype": "text/x-python",
   "name": "python",
   "nbconvert_exporter": "python",
   "pygments_lexer": "ipython3",
   "version": "3.7.6"
  },
  "varInspector": {
   "cols": {
    "lenName": 16,
    "lenType": 16,
    "lenVar": 40
   },
   "kernels_config": {
    "python": {
     "delete_cmd_postfix": "",
     "delete_cmd_prefix": "del ",
     "library": "var_list.py",
     "varRefreshCmd": "print(var_dic_list())"
    },
    "r": {
     "delete_cmd_postfix": ") ",
     "delete_cmd_prefix": "rm(",
     "library": "var_list.r",
     "varRefreshCmd": "cat(var_dic_list()) "
    }
   },
   "position": {
    "height": "144px",
    "left": "1175px",
    "right": "20px",
    "top": "68px",
    "width": "350px"
   },
   "types_to_exclude": [
    "module",
    "function",
    "builtin_function_or_method",
    "instance",
    "_Feature"
   ],
   "window_display": false
  }
 },
 "nbformat": 4,
 "nbformat_minor": 2
}
